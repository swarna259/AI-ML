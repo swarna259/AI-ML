{
 "cells": [
  {
   "cell_type": "code",
   "execution_count": 44,
   "id": "413cbbaa-9665-41d2-b502-4653aecd369a",
   "metadata": {},
   "outputs": [
    {
     "name": "stdout",
     "output_type": "stream",
     "text": [
      "[[2 4 6]\n",
      " [3 5 9]\n",
      " [6 7 5]]\n"
     ]
    }
   ],
   "source": [
    "import numpy as np\n",
    "matrix=np.array([[2,4,6],[3,5,9],[6,7,5]])\n",
    "print(matrix)"
   ]
  },
  {
   "cell_type": "code",
   "execution_count": 46,
   "id": "20a0a51b-a1a7-4ab3-bcd9-d180d308cded",
   "metadata": {},
   "outputs": [
    {
     "name": "stdout",
     "output_type": "stream",
     "text": [
      "5.222222222222222\n"
     ]
    }
   ],
   "source": [
    "mean=np.mean(matrix)\n",
    "print (mean)"
   ]
  },
  {
   "cell_type": "code",
   "execution_count": 48,
   "id": "8dd9158a-9016-47e9-b9d0-b0f50c2218ff",
   "metadata": {},
   "outputs": [
    {
     "name": "stdout",
     "output_type": "stream",
     "text": [
      "5.0\n"
     ]
    }
   ],
   "source": [
    "median=np.median(matrix)\n",
    "print (median)"
   ]
  },
  {
   "cell_type": "code",
   "execution_count": 50,
   "id": "e18e0f0b-9907-4a6e-84f5-8c0e31718e4a",
   "metadata": {},
   "outputs": [
    {
     "name": "stdout",
     "output_type": "stream",
     "text": [
      "ModeResult(mode=array([2, 3, 5], dtype=int64), count=array([1, 1, 1], dtype=int64))\n"
     ]
    }
   ],
   "source": [
    "from scipy import stats\n",
    "mode=stats.mode(matrix,axis=1) #axis=0 for column and axis=1 for row\n",
    "print(mode)"
   ]
  },
  {
   "cell_type": "code",
   "execution_count": 54,
   "id": "21987496-257f-4466-aadb-e848ec214aac",
   "metadata": {},
   "outputs": [
    {
     "name": "stdout",
     "output_type": "stream",
     "text": [
      "26.000000000000014\n"
     ]
    }
   ],
   "source": [
    "d=np.linalg.det(matrix)\n",
    "print(d)"
   ]
  },
  {
   "cell_type": "code",
   "execution_count": 56,
   "id": "ba21c919-2109-484e-84cb-41ec13872a06",
   "metadata": {},
   "outputs": [
    {
     "name": "stdout",
     "output_type": "stream",
     "text": [
      "[[-1.46153846e+00  8.46153846e-01  2.30769231e-01]\n",
      " [ 1.50000000e+00 -1.00000000e+00  8.54017711e-18]\n",
      " [-3.46153846e-01  3.84615385e-01 -7.69230769e-02]]\n"
     ]
    }
   ],
   "source": [
    "inverse=np.linalg.inv(matrix)\n",
    "print(inverse)"
   ]
  },
  {
   "cell_type": "raw",
   "id": "7dfffe95-db85-4343-a6e5-d51fb2f1176a",
   "metadata": {},
   "source": [
    "inverse of matrix formula=\n",
    "https://byjus.com/maths/inverse-matrix/"
   ]
  }
 ],
 "metadata": {
  "kernelspec": {
   "display_name": "Python 3 (ipykernel)",
   "language": "python",
   "name": "python3"
  },
  "language_info": {
   "codemirror_mode": {
    "name": "ipython",
    "version": 3
   },
   "file_extension": ".py",
   "mimetype": "text/x-python",
   "name": "python",
   "nbconvert_exporter": "python",
   "pygments_lexer": "ipython3",
   "version": "3.12.4"
  }
 },
 "nbformat": 4,
 "nbformat_minor": 5
}
